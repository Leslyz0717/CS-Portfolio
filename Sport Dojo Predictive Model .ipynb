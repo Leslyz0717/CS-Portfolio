{
 "cells": [
  {
   "cell_type": "code",
   "execution_count": 5,
   "id": "7059a7ba",
   "metadata": {},
   "outputs": [],
   "source": [
    "# Installing dependencies \n",
    "import pandas as pd\n",
    "import seaborn as sns\n",
    "import numpy as np\n",
    "import matplotlib.pyplot as plt"
   ]
  },
  {
   "cell_type": "code",
   "execution_count": 6,
   "id": "e284e273",
   "metadata": {},
   "outputs": [],
   "source": [
    "data = pd.read_csv(\"C:/Users/Lesly/OneDrive/Documents/sport_e2.csv\")"
   ]
  },
  {
   "cell_type": "code",
   "execution_count": 7,
   "id": "d4ab53d8",
   "metadata": {},
   "outputs": [
    {
     "data": {
      "text/html": [
       "<div>\n",
       "<style scoped>\n",
       "    .dataframe tbody tr th:only-of-type {\n",
       "        vertical-align: middle;\n",
       "    }\n",
       "\n",
       "    .dataframe tbody tr th {\n",
       "        vertical-align: top;\n",
       "    }\n",
       "\n",
       "    .dataframe thead th {\n",
       "        text-align: right;\n",
       "    }\n",
       "</style>\n",
       "<table border=\"1\" class=\"dataframe\">\n",
       "  <thead>\n",
       "    <tr style=\"text-align: right;\">\n",
       "      <th></th>\n",
       "      <th>index</th>\n",
       "      <th>importance</th>\n",
       "      <th>sport</th>\n",
       "      <th>frequency</th>\n",
       "      <th>how_alone</th>\n",
       "      <th>how_small_groups</th>\n",
       "      <th>how_big_groups</th>\n",
       "      <th>independence</th>\n",
       "      <th>interdependence</th>\n",
       "      <th>sex</th>\n",
       "      <th>age</th>\n",
       "      <th>education</th>\n",
       "    </tr>\n",
       "  </thead>\n",
       "  <tbody>\n",
       "    <tr>\n",
       "      <th>0</th>\n",
       "      <td>134</td>\n",
       "      <td>7</td>\n",
       "      <td>Martial Arts Tricking</td>\n",
       "      <td>5</td>\n",
       "      <td>False</td>\n",
       "      <td>True</td>\n",
       "      <td>False</td>\n",
       "      <td>4.000000</td>\n",
       "      <td>5.833333</td>\n",
       "      <td>m</td>\n",
       "      <td>26</td>\n",
       "      <td>7</td>\n",
       "    </tr>\n",
       "    <tr>\n",
       "      <th>1</th>\n",
       "      <td>135</td>\n",
       "      <td>7</td>\n",
       "      <td>Martial Arts Tricking</td>\n",
       "      <td>5</td>\n",
       "      <td>True</td>\n",
       "      <td>True</td>\n",
       "      <td>True</td>\n",
       "      <td>5.416667</td>\n",
       "      <td>6.583333</td>\n",
       "      <td>m</td>\n",
       "      <td>25</td>\n",
       "      <td>5</td>\n",
       "    </tr>\n",
       "    <tr>\n",
       "      <th>2</th>\n",
       "      <td>137</td>\n",
       "      <td>7</td>\n",
       "      <td>Basketball</td>\n",
       "      <td>4</td>\n",
       "      <td>True</td>\n",
       "      <td>True</td>\n",
       "      <td>True</td>\n",
       "      <td>4.166667</td>\n",
       "      <td>5.916667</td>\n",
       "      <td>m</td>\n",
       "      <td>27</td>\n",
       "      <td>8</td>\n",
       "    </tr>\n",
       "    <tr>\n",
       "      <th>3</th>\n",
       "      <td>139</td>\n",
       "      <td>7</td>\n",
       "      <td>Parkour</td>\n",
       "      <td>7</td>\n",
       "      <td>True</td>\n",
       "      <td>True</td>\n",
       "      <td>False</td>\n",
       "      <td>4.666667</td>\n",
       "      <td>5.583333</td>\n",
       "      <td>m</td>\n",
       "      <td>18</td>\n",
       "      <td>4</td>\n",
       "    </tr>\n",
       "    <tr>\n",
       "      <th>4</th>\n",
       "      <td>140</td>\n",
       "      <td>7</td>\n",
       "      <td>Parkour</td>\n",
       "      <td>6</td>\n",
       "      <td>False</td>\n",
       "      <td>True</td>\n",
       "      <td>False</td>\n",
       "      <td>4.833333</td>\n",
       "      <td>5.833333</td>\n",
       "      <td>m</td>\n",
       "      <td>19</td>\n",
       "      <td>7</td>\n",
       "    </tr>\n",
       "  </tbody>\n",
       "</table>\n",
       "</div>"
      ],
      "text/plain": [
       "   index  importance                  sport  frequency  how_alone  \\\n",
       "0    134           7  Martial Arts Tricking          5      False   \n",
       "1    135           7  Martial Arts Tricking          5       True   \n",
       "2    137           7             Basketball          4       True   \n",
       "3    139           7                Parkour          7       True   \n",
       "4    140           7                Parkour          6      False   \n",
       "\n",
       "   how_small_groups  how_big_groups  independence  interdependence sex  age  \\\n",
       "0              True           False      4.000000         5.833333   m   26   \n",
       "1              True            True      5.416667         6.583333   m   25   \n",
       "2              True            True      4.166667         5.916667   m   27   \n",
       "3              True           False      4.666667         5.583333   m   18   \n",
       "4              True           False      4.833333         5.833333   m   19   \n",
       "\n",
       "   education  \n",
       "0          7  \n",
       "1          5  \n",
       "2          8  \n",
       "3          4  \n",
       "4          7  "
      ]
     },
     "execution_count": 7,
     "metadata": {},
     "output_type": "execute_result"
    }
   ],
   "source": [
    "data.head()"
   ]
  },
  {
   "cell_type": "code",
   "execution_count": 8,
   "id": "917e34fb",
   "metadata": {},
   "outputs": [
    {
     "data": {
      "text/html": [
       "<div>\n",
       "<style scoped>\n",
       "    .dataframe tbody tr th:only-of-type {\n",
       "        vertical-align: middle;\n",
       "    }\n",
       "\n",
       "    .dataframe tbody tr th {\n",
       "        vertical-align: top;\n",
       "    }\n",
       "\n",
       "    .dataframe thead th {\n",
       "        text-align: right;\n",
       "    }\n",
       "</style>\n",
       "<table border=\"1\" class=\"dataframe\">\n",
       "  <thead>\n",
       "    <tr style=\"text-align: right;\">\n",
       "      <th></th>\n",
       "      <th>index</th>\n",
       "      <th>importance</th>\n",
       "      <th>sport</th>\n",
       "      <th>frequency</th>\n",
       "      <th>how_alone</th>\n",
       "      <th>how_small_groups</th>\n",
       "      <th>how_big_groups</th>\n",
       "      <th>independence</th>\n",
       "      <th>interdependence</th>\n",
       "      <th>sex</th>\n",
       "      <th>age</th>\n",
       "      <th>education</th>\n",
       "    </tr>\n",
       "  </thead>\n",
       "  <tbody>\n",
       "    <tr>\n",
       "      <th>394</th>\n",
       "      <td>925</td>\n",
       "      <td>6</td>\n",
       "      <td>Soccer</td>\n",
       "      <td>8</td>\n",
       "      <td>False</td>\n",
       "      <td>True</td>\n",
       "      <td>False</td>\n",
       "      <td>5.166667</td>\n",
       "      <td>5.583333</td>\n",
       "      <td>m</td>\n",
       "      <td>22</td>\n",
       "      <td>7</td>\n",
       "    </tr>\n",
       "    <tr>\n",
       "      <th>395</th>\n",
       "      <td>926</td>\n",
       "      <td>5</td>\n",
       "      <td>Basketball</td>\n",
       "      <td>2</td>\n",
       "      <td>True</td>\n",
       "      <td>True</td>\n",
       "      <td>False</td>\n",
       "      <td>4.500000</td>\n",
       "      <td>4.333333</td>\n",
       "      <td>f</td>\n",
       "      <td>22</td>\n",
       "      <td>7</td>\n",
       "    </tr>\n",
       "    <tr>\n",
       "      <th>396</th>\n",
       "      <td>927</td>\n",
       "      <td>6</td>\n",
       "      <td>Running</td>\n",
       "      <td>5</td>\n",
       "      <td>True</td>\n",
       "      <td>False</td>\n",
       "      <td>False</td>\n",
       "      <td>3.416667</td>\n",
       "      <td>5.166667</td>\n",
       "      <td>f</td>\n",
       "      <td>40</td>\n",
       "      <td>8</td>\n",
       "    </tr>\n",
       "    <tr>\n",
       "      <th>397</th>\n",
       "      <td>950</td>\n",
       "      <td>7</td>\n",
       "      <td>Soccer</td>\n",
       "      <td>6</td>\n",
       "      <td>False</td>\n",
       "      <td>False</td>\n",
       "      <td>False</td>\n",
       "      <td>5.166667</td>\n",
       "      <td>5.333333</td>\n",
       "      <td>m</td>\n",
       "      <td>22</td>\n",
       "      <td>7</td>\n",
       "    </tr>\n",
       "    <tr>\n",
       "      <th>398</th>\n",
       "      <td>960</td>\n",
       "      <td>7</td>\n",
       "      <td>Skiing</td>\n",
       "      <td>5</td>\n",
       "      <td>False</td>\n",
       "      <td>False</td>\n",
       "      <td>True</td>\n",
       "      <td>4.250000</td>\n",
       "      <td>4.916667</td>\n",
       "      <td>f</td>\n",
       "      <td>22</td>\n",
       "      <td>7</td>\n",
       "    </tr>\n",
       "  </tbody>\n",
       "</table>\n",
       "</div>"
      ],
      "text/plain": [
       "     index  importance       sport  frequency  how_alone  how_small_groups  \\\n",
       "394    925           6      Soccer          8      False              True   \n",
       "395    926           5  Basketball          2       True              True   \n",
       "396    927           6     Running          5       True             False   \n",
       "397    950           7      Soccer          6      False             False   \n",
       "398    960           7      Skiing          5      False             False   \n",
       "\n",
       "     how_big_groups  independence  interdependence sex  age  education  \n",
       "394           False      5.166667         5.583333   m   22          7  \n",
       "395           False      4.500000         4.333333   f   22          7  \n",
       "396           False      3.416667         5.166667   f   40          8  \n",
       "397           False      5.166667         5.333333   m   22          7  \n",
       "398            True      4.250000         4.916667   f   22          7  "
      ]
     },
     "execution_count": 8,
     "metadata": {},
     "output_type": "execute_result"
    }
   ],
   "source": [
    "data.tail()"
   ]
  },
  {
   "cell_type": "code",
   "execution_count": 9,
   "id": "3edd4346",
   "metadata": {},
   "outputs": [
    {
     "data": {
      "text/plain": [
       "Index(['index', 'importance', 'sport', 'frequency', 'how_alone',\n",
       "       'how_small_groups', 'how_big_groups', 'independence', 'interdependence',\n",
       "       'sex', 'age', 'education'],\n",
       "      dtype='object')"
      ]
     },
     "execution_count": 9,
     "metadata": {},
     "output_type": "execute_result"
    }
   ],
   "source": [
    "data.columns"
   ]
  },
  {
   "cell_type": "code",
   "execution_count": 10,
   "id": "aafba2b3",
   "metadata": {},
   "outputs": [
    {
     "data": {
      "text/plain": [
       "(399, 12)"
      ]
     },
     "execution_count": 10,
     "metadata": {},
     "output_type": "execute_result"
    }
   ],
   "source": [
    "data.shape"
   ]
  },
  {
   "cell_type": "code",
   "execution_count": 11,
   "id": "6e4a7d7d",
   "metadata": {},
   "outputs": [
    {
     "data": {
      "text/html": [
       "<div>\n",
       "<style scoped>\n",
       "    .dataframe tbody tr th:only-of-type {\n",
       "        vertical-align: middle;\n",
       "    }\n",
       "\n",
       "    .dataframe tbody tr th {\n",
       "        vertical-align: top;\n",
       "    }\n",
       "\n",
       "    .dataframe thead th {\n",
       "        text-align: right;\n",
       "    }\n",
       "</style>\n",
       "<table border=\"1\" class=\"dataframe\">\n",
       "  <thead>\n",
       "    <tr style=\"text-align: right;\">\n",
       "      <th></th>\n",
       "      <th>index</th>\n",
       "      <th>importance</th>\n",
       "      <th>frequency</th>\n",
       "      <th>independence</th>\n",
       "      <th>interdependence</th>\n",
       "      <th>age</th>\n",
       "      <th>education</th>\n",
       "    </tr>\n",
       "  </thead>\n",
       "  <tbody>\n",
       "    <tr>\n",
       "      <th>count</th>\n",
       "      <td>399.000000</td>\n",
       "      <td>399.000000</td>\n",
       "      <td>399.000000</td>\n",
       "      <td>399.000000</td>\n",
       "      <td>399.000000</td>\n",
       "      <td>399.000000</td>\n",
       "      <td>399.000000</td>\n",
       "    </tr>\n",
       "    <tr>\n",
       "      <th>mean</th>\n",
       "      <td>531.320802</td>\n",
       "      <td>6.619048</td>\n",
       "      <td>5.308271</td>\n",
       "      <td>4.570175</td>\n",
       "      <td>5.080201</td>\n",
       "      <td>23.764411</td>\n",
       "      <td>7.112782</td>\n",
       "    </tr>\n",
       "    <tr>\n",
       "      <th>std</th>\n",
       "      <td>240.561273</td>\n",
       "      <td>0.701927</td>\n",
       "      <td>1.491250</td>\n",
       "      <td>0.712013</td>\n",
       "      <td>0.737761</td>\n",
       "      <td>6.683411</td>\n",
       "      <td>1.179733</td>\n",
       "    </tr>\n",
       "    <tr>\n",
       "      <th>min</th>\n",
       "      <td>134.000000</td>\n",
       "      <td>1.000000</td>\n",
       "      <td>1.000000</td>\n",
       "      <td>2.416667</td>\n",
       "      <td>2.083333</td>\n",
       "      <td>12.000000</td>\n",
       "      <td>1.000000</td>\n",
       "    </tr>\n",
       "    <tr>\n",
       "      <th>25%</th>\n",
       "      <td>307.500000</td>\n",
       "      <td>6.000000</td>\n",
       "      <td>4.000000</td>\n",
       "      <td>4.166667</td>\n",
       "      <td>4.666667</td>\n",
       "      <td>20.000000</td>\n",
       "      <td>7.000000</td>\n",
       "    </tr>\n",
       "    <tr>\n",
       "      <th>50%</th>\n",
       "      <td>533.000000</td>\n",
       "      <td>7.000000</td>\n",
       "      <td>5.000000</td>\n",
       "      <td>4.666667</td>\n",
       "      <td>5.166667</td>\n",
       "      <td>23.000000</td>\n",
       "      <td>7.000000</td>\n",
       "    </tr>\n",
       "    <tr>\n",
       "      <th>75%</th>\n",
       "      <td>747.500000</td>\n",
       "      <td>7.000000</td>\n",
       "      <td>6.000000</td>\n",
       "      <td>5.000000</td>\n",
       "      <td>5.583333</td>\n",
       "      <td>25.000000</td>\n",
       "      <td>8.000000</td>\n",
       "    </tr>\n",
       "    <tr>\n",
       "      <th>max</th>\n",
       "      <td>960.000000</td>\n",
       "      <td>7.000000</td>\n",
       "      <td>8.000000</td>\n",
       "      <td>6.500000</td>\n",
       "      <td>6.916667</td>\n",
       "      <td>70.000000</td>\n",
       "      <td>9.000000</td>\n",
       "    </tr>\n",
       "  </tbody>\n",
       "</table>\n",
       "</div>"
      ],
      "text/plain": [
       "            index  importance   frequency  independence  interdependence  \\\n",
       "count  399.000000  399.000000  399.000000    399.000000       399.000000   \n",
       "mean   531.320802    6.619048    5.308271      4.570175         5.080201   \n",
       "std    240.561273    0.701927    1.491250      0.712013         0.737761   \n",
       "min    134.000000    1.000000    1.000000      2.416667         2.083333   \n",
       "25%    307.500000    6.000000    4.000000      4.166667         4.666667   \n",
       "50%    533.000000    7.000000    5.000000      4.666667         5.166667   \n",
       "75%    747.500000    7.000000    6.000000      5.000000         5.583333   \n",
       "max    960.000000    7.000000    8.000000      6.500000         6.916667   \n",
       "\n",
       "              age   education  \n",
       "count  399.000000  399.000000  \n",
       "mean    23.764411    7.112782  \n",
       "std      6.683411    1.179733  \n",
       "min     12.000000    1.000000  \n",
       "25%     20.000000    7.000000  \n",
       "50%     23.000000    7.000000  \n",
       "75%     25.000000    8.000000  \n",
       "max     70.000000    9.000000  "
      ]
     },
     "execution_count": 11,
     "metadata": {},
     "output_type": "execute_result"
    }
   ],
   "source": [
    "data.describe()"
   ]
  },
  {
   "cell_type": "code",
   "execution_count": 12,
   "id": "35225b84",
   "metadata": {},
   "outputs": [
    {
     "data": {
      "text/plain": [
       "index               0\n",
       "importance          0\n",
       "sport               0\n",
       "frequency           0\n",
       "how_alone           0\n",
       "how_small_groups    0\n",
       "how_big_groups      0\n",
       "independence        0\n",
       "interdependence     0\n",
       "sex                 0\n",
       "age                 0\n",
       "education           0\n",
       "dtype: int64"
      ]
     },
     "execution_count": 12,
     "metadata": {},
     "output_type": "execute_result"
    }
   ],
   "source": [
    "data.isnull().sum()"
   ]
  },
  {
   "cell_type": "code",
   "execution_count": 13,
   "id": "51778fea",
   "metadata": {},
   "outputs": [
    {
     "data": {
      "text/html": [
       "<div>\n",
       "<style scoped>\n",
       "    .dataframe tbody tr th:only-of-type {\n",
       "        vertical-align: middle;\n",
       "    }\n",
       "\n",
       "    .dataframe tbody tr th {\n",
       "        vertical-align: top;\n",
       "    }\n",
       "\n",
       "    .dataframe thead th {\n",
       "        text-align: right;\n",
       "    }\n",
       "</style>\n",
       "<table border=\"1\" class=\"dataframe\">\n",
       "  <thead>\n",
       "    <tr style=\"text-align: right;\">\n",
       "      <th></th>\n",
       "      <th>index</th>\n",
       "      <th>importance</th>\n",
       "      <th>sport</th>\n",
       "      <th>frequency</th>\n",
       "      <th>how_alone</th>\n",
       "      <th>how_small_groups</th>\n",
       "      <th>how_big_groups</th>\n",
       "      <th>independence</th>\n",
       "      <th>interdependence</th>\n",
       "      <th>sex</th>\n",
       "      <th>age</th>\n",
       "      <th>education</th>\n",
       "    </tr>\n",
       "  </thead>\n",
       "  <tbody>\n",
       "    <tr>\n",
       "      <th>0</th>\n",
       "      <td>134</td>\n",
       "      <td>7</td>\n",
       "      <td>Martial Arts Tricking</td>\n",
       "      <td>5</td>\n",
       "      <td>False</td>\n",
       "      <td>True</td>\n",
       "      <td>False</td>\n",
       "      <td>4.000000</td>\n",
       "      <td>5.833333</td>\n",
       "      <td>m</td>\n",
       "      <td>26</td>\n",
       "      <td>7</td>\n",
       "    </tr>\n",
       "    <tr>\n",
       "      <th>1</th>\n",
       "      <td>135</td>\n",
       "      <td>7</td>\n",
       "      <td>Martial Arts Tricking</td>\n",
       "      <td>5</td>\n",
       "      <td>True</td>\n",
       "      <td>True</td>\n",
       "      <td>True</td>\n",
       "      <td>5.416667</td>\n",
       "      <td>6.583333</td>\n",
       "      <td>m</td>\n",
       "      <td>25</td>\n",
       "      <td>5</td>\n",
       "    </tr>\n",
       "    <tr>\n",
       "      <th>2</th>\n",
       "      <td>137</td>\n",
       "      <td>7</td>\n",
       "      <td>Basketball</td>\n",
       "      <td>4</td>\n",
       "      <td>True</td>\n",
       "      <td>True</td>\n",
       "      <td>True</td>\n",
       "      <td>4.166667</td>\n",
       "      <td>5.916667</td>\n",
       "      <td>m</td>\n",
       "      <td>27</td>\n",
       "      <td>8</td>\n",
       "    </tr>\n",
       "    <tr>\n",
       "      <th>3</th>\n",
       "      <td>139</td>\n",
       "      <td>7</td>\n",
       "      <td>Parkour</td>\n",
       "      <td>7</td>\n",
       "      <td>True</td>\n",
       "      <td>True</td>\n",
       "      <td>False</td>\n",
       "      <td>4.666667</td>\n",
       "      <td>5.583333</td>\n",
       "      <td>m</td>\n",
       "      <td>18</td>\n",
       "      <td>4</td>\n",
       "    </tr>\n",
       "    <tr>\n",
       "      <th>4</th>\n",
       "      <td>140</td>\n",
       "      <td>7</td>\n",
       "      <td>Parkour</td>\n",
       "      <td>6</td>\n",
       "      <td>False</td>\n",
       "      <td>True</td>\n",
       "      <td>False</td>\n",
       "      <td>4.833333</td>\n",
       "      <td>5.833333</td>\n",
       "      <td>m</td>\n",
       "      <td>19</td>\n",
       "      <td>7</td>\n",
       "    </tr>\n",
       "  </tbody>\n",
       "</table>\n",
       "</div>"
      ],
      "text/plain": [
       "   index  importance                  sport  frequency  how_alone  \\\n",
       "0    134           7  Martial Arts Tricking          5      False   \n",
       "1    135           7  Martial Arts Tricking          5       True   \n",
       "2    137           7             Basketball          4       True   \n",
       "3    139           7                Parkour          7       True   \n",
       "4    140           7                Parkour          6      False   \n",
       "\n",
       "   how_small_groups  how_big_groups  independence  interdependence sex  age  \\\n",
       "0              True           False      4.000000         5.833333   m   26   \n",
       "1              True            True      5.416667         6.583333   m   25   \n",
       "2              True            True      4.166667         5.916667   m   27   \n",
       "3              True           False      4.666667         5.583333   m   18   \n",
       "4              True           False      4.833333         5.833333   m   19   \n",
       "\n",
       "   education  \n",
       "0          7  \n",
       "1          5  \n",
       "2          8  \n",
       "3          4  \n",
       "4          7  "
      ]
     },
     "execution_count": 13,
     "metadata": {},
     "output_type": "execute_result"
    }
   ],
   "source": [
    "#Visualization\n",
    "data.head()"
   ]
  },
  {
   "cell_type": "code",
   "execution_count": 14,
   "id": "a8f01b67",
   "metadata": {},
   "outputs": [
    {
     "data": {
      "text/plain": [
       "<seaborn.axisgrid.FacetGrid at 0x23add382510>"
      ]
     },
     "execution_count": 14,
     "metadata": {},
     "output_type": "execute_result"
    },
    {
     "data": {
      "image/png": "[encoded data removed]",
      "text/plain": [
       "<Figure size 500x500 with 1 Axes>"
      ]
     },
     "metadata": {},
     "output_type": "display_data"
    }
   ],
   "source": [
    "sns.relplot(x='frequency', y = 'age', data=data)"
   ]
  },
  {
   "cell_type": "code",
   "execution_count": 15,
   "id": "49b8161a",
   "metadata": {},
   "outputs": [
    {
     "data": {
      "text/plain": [
       "<seaborn.axisgrid.FacetGrid at 0x23add42d8d0>"
      ]
     },
     "execution_count": 15,
     "metadata": {},
     "output_type": "execute_result"
    },
    {
     "data": {
      "image/png": "[encoded data removed]",
      "text/plain": [
       "<Figure size 500x500 with 1 Axes>"
      ]
     },
     "metadata": {},
     "output_type": "display_data"
    }
   ],
   "source": [
    "sns.relplot(x = 'age', y = 'interdependence', data=data)"
   ]
  },
  {
   "cell_type": "code",
   "execution_count": 16,
   "id": "4a60e86a",
   "metadata": {},
   "outputs": [
    {
     "data": {
      "text/plain": [
       "Text(0.5, 1.0, 'Relationship between gender and Interdependence')"
      ]
     },
     "execution_count": 16,
     "metadata": {},
     "output_type": "execute_result"
    },
    {
     "data": {
      "image/png": "[encoded data removed]",
      "text/plain": [
       "<Figure size 640x480 with 1 Axes>"
      ]
     },
     "metadata": {},
     "output_type": "display_data"
    }
   ],
   "source": [
    "plt.bar(data['sex'], data['interdependence'])\n",
    "plt.xlabel('Gender')\n",
    "plt.ylabel('interdependence')\n",
    "plt.title('Relationship between gender and Interdependence')"
   ]
  },
  {
   "cell_type": "code",
   "execution_count": 17,
   "id": "1222b647",
   "metadata": {},
   "outputs": [
    {
     "data": {
      "text/plain": [
       "<seaborn.axisgrid.FacetGrid at 0x23addbe5210>"
      ]
     },
     "execution_count": 17,
     "metadata": {},
     "output_type": "execute_result"
    },
    {
     "data": {
      "image/png": "[encoded data removed]",
      "text/plain": [
       "<Figure size 580.861x500 with 1 Axes>"
      ]
     },
     "metadata": {},
     "output_type": "display_data"
    }
   ],
   "source": [
    "sns.relplot(x='interdependence', y = 'age', hue = 'frequency', data=data)"
   ]
  },
  {
   "cell_type": "code",
   "execution_count": 18,
   "id": "161a9ef5",
   "metadata": {},
   "outputs": [
    {
     "data": {
      "text/html": [
       "<div>\n",
       "<style scoped>\n",
       "    .dataframe tbody tr th:only-of-type {\n",
       "        vertical-align: middle;\n",
       "    }\n",
       "\n",
       "    .dataframe tbody tr th {\n",
       "        vertical-align: top;\n",
       "    }\n",
       "\n",
       "    .dataframe thead th {\n",
       "        text-align: right;\n",
       "    }\n",
       "</style>\n",
       "<table border=\"1\" class=\"dataframe\">\n",
       "  <thead>\n",
       "    <tr style=\"text-align: right;\">\n",
       "      <th></th>\n",
       "      <th>index</th>\n",
       "      <th>importance</th>\n",
       "      <th>sport</th>\n",
       "      <th>frequency</th>\n",
       "      <th>how_alone</th>\n",
       "      <th>how_small_groups</th>\n",
       "      <th>how_big_groups</th>\n",
       "      <th>independence</th>\n",
       "      <th>interdependence</th>\n",
       "      <th>sex</th>\n",
       "      <th>age</th>\n",
       "      <th>education</th>\n",
       "    </tr>\n",
       "  </thead>\n",
       "  <tbody>\n",
       "    <tr>\n",
       "      <th>0</th>\n",
       "      <td>134</td>\n",
       "      <td>7</td>\n",
       "      <td>Martial Arts Tricking</td>\n",
       "      <td>5</td>\n",
       "      <td>False</td>\n",
       "      <td>True</td>\n",
       "      <td>False</td>\n",
       "      <td>4.000000</td>\n",
       "      <td>5.833333</td>\n",
       "      <td>m</td>\n",
       "      <td>26</td>\n",
       "      <td>7</td>\n",
       "    </tr>\n",
       "    <tr>\n",
       "      <th>1</th>\n",
       "      <td>135</td>\n",
       "      <td>7</td>\n",
       "      <td>Martial Arts Tricking</td>\n",
       "      <td>5</td>\n",
       "      <td>True</td>\n",
       "      <td>True</td>\n",
       "      <td>True</td>\n",
       "      <td>5.416667</td>\n",
       "      <td>6.583333</td>\n",
       "      <td>m</td>\n",
       "      <td>25</td>\n",
       "      <td>5</td>\n",
       "    </tr>\n",
       "    <tr>\n",
       "      <th>2</th>\n",
       "      <td>137</td>\n",
       "      <td>7</td>\n",
       "      <td>Basketball</td>\n",
       "      <td>4</td>\n",
       "      <td>True</td>\n",
       "      <td>True</td>\n",
       "      <td>True</td>\n",
       "      <td>4.166667</td>\n",
       "      <td>5.916667</td>\n",
       "      <td>m</td>\n",
       "      <td>27</td>\n",
       "      <td>8</td>\n",
       "    </tr>\n",
       "    <tr>\n",
       "      <th>3</th>\n",
       "      <td>139</td>\n",
       "      <td>7</td>\n",
       "      <td>Parkour</td>\n",
       "      <td>7</td>\n",
       "      <td>True</td>\n",
       "      <td>True</td>\n",
       "      <td>False</td>\n",
       "      <td>4.666667</td>\n",
       "      <td>5.583333</td>\n",
       "      <td>m</td>\n",
       "      <td>18</td>\n",
       "      <td>4</td>\n",
       "    </tr>\n",
       "    <tr>\n",
       "      <th>4</th>\n",
       "      <td>140</td>\n",
       "      <td>7</td>\n",
       "      <td>Parkour</td>\n",
       "      <td>6</td>\n",
       "      <td>False</td>\n",
       "      <td>True</td>\n",
       "      <td>False</td>\n",
       "      <td>4.833333</td>\n",
       "      <td>5.833333</td>\n",
       "      <td>m</td>\n",
       "      <td>19</td>\n",
       "      <td>7</td>\n",
       "    </tr>\n",
       "  </tbody>\n",
       "</table>\n",
       "</div>"
      ],
      "text/plain": [
       "   index  importance                  sport  frequency  how_alone  \\\n",
       "0    134           7  Martial Arts Tricking          5      False   \n",
       "1    135           7  Martial Arts Tricking          5       True   \n",
       "2    137           7             Basketball          4       True   \n",
       "3    139           7                Parkour          7       True   \n",
       "4    140           7                Parkour          6      False   \n",
       "\n",
       "   how_small_groups  how_big_groups  independence  interdependence sex  age  \\\n",
       "0              True           False      4.000000         5.833333   m   26   \n",
       "1              True            True      5.416667         6.583333   m   25   \n",
       "2              True            True      4.166667         5.916667   m   27   \n",
       "3              True           False      4.666667         5.583333   m   18   \n",
       "4              True           False      4.833333         5.833333   m   19   \n",
       "\n",
       "   education  \n",
       "0          7  \n",
       "1          5  \n",
       "2          8  \n",
       "3          4  \n",
       "4          7  "
      ]
     },
     "execution_count": 18,
     "metadata": {},
     "output_type": "execute_result"
    }
   ],
   "source": [
    " #Model\n",
    "data.head()"
   ]
  },
  {
   "cell_type": "code",
   "execution_count": 19,
   "id": "1419b12b",
   "metadata": {},
   "outputs": [],
   "source": [
    "from sklearn.linear_model import LinearRegression\n",
    "from sklearn.model_selection import train_test_split"
   ]
  },
  {
   "cell_type": "code",
   "execution_count": 223,
   "id": "d5f98732",
   "metadata": {},
   "outputs": [],
   "source": [
    "train = data.drop(['index','importance','sport','education','sex'], axis=1)\n",
    "test = data['interdependence']"
   ]
  },
  {
   "cell_type": "code",
   "execution_count": 224,
   "id": "82e97129",
   "metadata": {},
   "outputs": [],
   "source": [
    "train_encode = pd.get_dummies(train)"
   ]
  },
  {
   "cell_type": "code",
   "execution_count": 225,
   "id": "0977ae2e",
   "metadata": {},
   "outputs": [],
   "source": [
    "X_train, X_test, y_train, y_test = train_test_split(train_encode, test, test_size=0.4, random_state=3)"
   ]
  },
  {
   "cell_type": "code",
   "execution_count": 226,
   "id": "6e6ae893",
   "metadata": {},
   "outputs": [],
   "source": [
    " regr = LinearRegression()"
   ]
  },
  {
   "cell_type": "code",
   "execution_count": 227,
   "id": "933aebb6",
   "metadata": {},
   "outputs": [
    {
     "data": {
      "text/html": [
       "<style>#sk-container-id-28 {color: black;background-color: white;}#sk-container-id-28 pre{padding: 0;}#sk-container-id-28 div.sk-toggleable {background-color: white;}#sk-container-id-28 label.sk-toggleable__label {cursor: pointer;display: block;width: 100%;margin-bottom: 0;padding: 0.3em;box-sizing: border-box;text-align: center;}#sk-container-id-28 label.sk-toggleable__label-arrow:before {content: \"▸\";float: left;margin-right: 0.25em;color: #696969;}#sk-container-id-28 label.sk-toggleable__label-arrow:hover:before {color: black;}#sk-container-id-28 div.sk-estimator:hover label.sk-toggleable__label-arrow:before {color: black;}#sk-container-id-28 div.sk-toggleable__content {max-height: 0;max-width: 0;overflow: hidden;text-align: left;background-color: #f0f8ff;}#sk-container-id-28 div.sk-toggleable__content pre {margin: 0.2em;color: black;border-radius: 0.25em;background-color: #f0f8ff;}#sk-container-id-28 input.sk-toggleable__control:checked~div.sk-toggleable__content {max-height: 200px;max-width: 100%;overflow: auto;}#sk-container-id-28 input.sk-toggleable__control:checked~label.sk-toggleable__label-arrow:before {content: \"▾\";}#sk-container-id-28 div.sk-estimator input.sk-toggleable__control:checked~label.sk-toggleable__label {background-color: #d4ebff;}#sk-container-id-28 div.sk-label input.sk-toggleable__control:checked~label.sk-toggleable__label {background-color: #d4ebff;}#sk-container-id-28 input.sk-hidden--visually {border: 0;clip: rect(1px 1px 1px 1px);clip: rect(1px, 1px, 1px, 1px);height: 1px;margin: -1px;overflow: hidden;padding: 0;position: absolute;width: 1px;}#sk-container-id-28 div.sk-estimator {font-family: monospace;background-color: #f0f8ff;border: 1px dotted black;border-radius: 0.25em;box-sizing: border-box;margin-bottom: 0.5em;}#sk-container-id-28 div.sk-estimator:hover {background-color: #d4ebff;}#sk-container-id-28 div.sk-parallel-item::after {content: \"\";width: 100%;border-bottom: 1px solid gray;flex-grow: 1;}#sk-container-id-28 div.sk-label:hover label.sk-toggleable__label {background-color: #d4ebff;}#sk-container-id-28 div.sk-serial::before {content: \"\";position: absolute;border-left: 1px solid gray;box-sizing: border-box;top: 0;bottom: 0;left: 50%;z-index: 0;}#sk-container-id-28 div.sk-serial {display: flex;flex-direction: column;align-items: center;background-color: white;padding-right: 0.2em;padding-left: 0.2em;position: relative;}#sk-container-id-28 div.sk-item {position: relative;z-index: 1;}#sk-container-id-28 div.sk-parallel {display: flex;align-items: stretch;justify-content: center;background-color: white;position: relative;}#sk-container-id-28 div.sk-item::before, #sk-container-id-28 div.sk-parallel-item::before {content: \"\";position: absolute;border-left: 1px solid gray;box-sizing: border-box;top: 0;bottom: 0;left: 50%;z-index: -1;}#sk-container-id-28 div.sk-parallel-item {display: flex;flex-direction: column;z-index: 1;position: relative;background-color: white;}#sk-container-id-28 div.sk-parallel-item:first-child::after {align-self: flex-end;width: 50%;}#sk-container-id-28 div.sk-parallel-item:last-child::after {align-self: flex-start;width: 50%;}#sk-container-id-28 div.sk-parallel-item:only-child::after {width: 0;}#sk-container-id-28 div.sk-dashed-wrapped {border: 1px dashed gray;margin: 0 0.4em 0.5em 0.4em;box-sizing: border-box;padding-bottom: 0.4em;background-color: white;}#sk-container-id-28 div.sk-label label {font-family: monospace;font-weight: bold;display: inline-block;line-height: 1.2em;}#sk-container-id-28 div.sk-label-container {text-align: center;}#sk-container-id-28 div.sk-container {/* jupyter's `normalize.less` sets `[hidden] { display: none; }` but bootstrap.min.css set `[hidden] { display: none !important; }` so we also need the `!important` here to be able to override the default hidden behavior on the sphinx rendered scikit-learn.org. See: https://github.com/scikit-learn/scikit-learn/issues/21755 */display: inline-block !important;position: relative;}#sk-container-id-28 div.sk-text-repr-fallback {display: none;}</style><div id=\"sk-container-id-28\" class=\"sk-top-container\"><div class=\"sk-text-repr-fallback\"><pre>LinearRegression()</pre><b>In a Jupyter environment, please rerun this cell to show the HTML representation or trust the notebook. <br />On GitHub, the HTML representation is unable to render, please try loading this page with nbviewer.org.</b></div><div class=\"sk-container\" hidden><div class=\"sk-item\"><div class=\"sk-estimator sk-toggleable\"><input class=\"sk-toggleable__control sk-hidden--visually\" id=\"sk-estimator-id-28\" type=\"checkbox\" checked><label for=\"sk-estimator-id-28\" class=\"sk-toggleable__label sk-toggleable__label-arrow\">LinearRegression</label><div class=\"sk-toggleable__content\"><pre>LinearRegression()</pre></div></div></div></div></div>"
      ],
      "text/plain": [
       "LinearRegression()"
      ]
     },
     "execution_count": 227,
     "metadata": {},
     "output_type": "execute_result"
    }
   ],
   "source": [
    "regr.fit(X_train, y_train)"
   ]
  },
  {
   "cell_type": "code",
   "execution_count": 229,
   "id": "2b62e165",
   "metadata": {},
   "outputs": [],
   "source": [
    "pred = regr.predict(X_test)"
   ]
  },
  {
   "cell_type": "code",
   "execution_count": 230,
   "id": "93dc8a51",
   "metadata": {},
   "outputs": [
    {
     "data": {
      "text/plain": [
       "array([5.58333333, 4.83333333, 5.33333333, 6.        , 4.5       ,\n",
       "       4.33333333, 4.33333333, 5.33333333, 5.08333333, 5.33333333,\n",
       "       5.5       , 4.5       , 6.25      , 4.91666667, 4.66666667,\n",
       "       4.91666667, 4.41666667, 4.33333333, 5.33333333, 4.66666667,\n",
       "       5.83333333, 5.25      , 5.75      , 6.16666667, 5.41666667,\n",
       "       4.        , 5.91666667, 3.83333333, 4.58333333, 5.        ,\n",
       "       5.16666667, 5.41666667, 5.75      , 4.66666667, 5.25      ,\n",
       "       4.41666667, 5.08333333, 5.        , 5.08333333, 6.16666667,\n",
       "       5.        , 5.66666667, 4.91666667, 5.75      , 5.58333333,\n",
       "       3.75      , 3.33333333, 5.66666667, 5.41666667, 5.66666667,\n",
       "       4.66666667, 5.25      , 5.08333333, 5.        , 5.25      ,\n",
       "       5.        , 4.83333333, 4.75      , 4.58333333, 6.33333333,\n",
       "       5.75      , 5.25      , 5.25      , 4.41666667, 5.16666667,\n",
       "       4.25      , 5.58333333, 4.5       , 4.08333333, 5.33333333,\n",
       "       5.83333333, 5.08333333, 4.41666667, 4.25      , 6.16666667,\n",
       "       6.25      , 5.58333333, 5.83333333, 5.33333333, 3.83333333,\n",
       "       5.25      , 5.16666667, 5.5       , 4.83333333, 4.83333333,\n",
       "       5.16666667, 5.75      , 4.91666667, 4.25      , 5.75      ,\n",
       "       5.5       , 5.        , 5.83333333, 5.58333333, 4.83333333,\n",
       "       4.91666667, 3.75      , 5.33333333, 5.58333333, 2.08333333,\n",
       "       4.58333333, 4.75      , 5.16666667, 5.83333333, 5.25      ,\n",
       "       2.25      , 4.33333333, 5.5       , 5.66666667, 5.66666667,\n",
       "       5.83333333, 6.25      , 5.83333333, 5.16666667, 4.83333333,\n",
       "       5.66666667, 4.08333333, 4.41666667, 4.        , 3.66666667,\n",
       "       5.33333333, 4.        , 5.5       , 4.83333333, 4.75      ,\n",
       "       5.41666667, 5.75      , 4.16666667, 3.75      , 6.        ,\n",
       "       3.91666667, 4.91666667, 6.25      , 4.66666667, 4.5       ,\n",
       "       5.25      , 5.08333333, 6.08333333, 4.91666667, 6.91666667,\n",
       "       5.83333333, 3.91666667, 5.08333333, 4.58333333, 4.        ,\n",
       "       4.83333333, 5.41666667, 4.66666667, 3.25      , 4.91666667,\n",
       "       5.91666667, 4.66666667, 5.16666667, 4.41666667, 4.25      ,\n",
       "       5.75      , 5.16666667, 4.91666667, 5.66666667, 5.58333333])"
      ]
     },
     "execution_count": 230,
     "metadata": {},
     "output_type": "execute_result"
    }
   ],
   "source": [
    "pred"
   ]
  },
  {
   "cell_type": "code",
   "execution_count": 91,
   "id": "9c21cb25",
   "metadata": {},
   "outputs": [
    {
     "data": {
      "text/plain": [
       "0.08119888492631211"
      ]
     },
     "execution_count": 91,
     "metadata": {},
     "output_type": "execute_result"
    }
   ],
   "source": [
    "regr.score(X_test, y_test)"
   ]
  },
  {
   "cell_type": "code",
   "execution_count": 92,
   "id": "b16d43aa",
   "metadata": {},
   "outputs": [
    {
     "data": {
      "text/plain": [
       "0.08119888492631211"
      ]
     },
     "execution_count": 92,
     "metadata": {},
     "output_type": "execute_result"
    }
   ],
   "source": [
    "regr.score(X_test, y_test)"
   ]
  },
  {
   "cell_type": "code",
   "execution_count": 93,
   "id": "7481e008",
   "metadata": {},
   "outputs": [
    {
     "data": {
      "text/plain": [
       "0.08119888492631211"
      ]
     },
     "execution_count": 93,
     "metadata": {},
     "output_type": "execute_result"
    }
   ],
   "source": [
    "regr.score(X_test, y_test)"
   ]
  },
  {
   "cell_type": "code",
   "execution_count": 101,
   "id": "046adeee",
   "metadata": {},
   "outputs": [
    {
     "data": {
      "text/plain": [
       "0.08003555980322119"
      ]
     },
     "execution_count": 101,
     "metadata": {},
     "output_type": "execute_result"
    }
   ],
   "source": [
    "regr.score(X_test, y_test)"
   ]
  },
  {
   "cell_type": "code",
   "execution_count": 109,
   "id": "0cafd0ec",
   "metadata": {},
   "outputs": [
    {
     "data": {
      "text/plain": [
       "0.08226202130118698"
      ]
     },
     "execution_count": 109,
     "metadata": {},
     "output_type": "execute_result"
    }
   ],
   "source": [
    "regr.score(X_test, y_test)"
   ]
  },
  {
   "cell_type": "code",
   "execution_count": 115,
   "id": "643c916d",
   "metadata": {},
   "outputs": [
    {
     "data": {
      "text/plain": [
       "-0.038767514670707826"
      ]
     },
     "execution_count": 115,
     "metadata": {},
     "output_type": "execute_result"
    }
   ],
   "source": [
    "regr.score(X_test, y_test)"
   ]
  },
  {
   "cell_type": "code",
   "execution_count": 117,
   "id": "98c1d8bb",
   "metadata": {},
   "outputs": [
    {
     "data": {
      "text/plain": [
       "0.12653227731783567"
      ]
     },
     "execution_count": 117,
     "metadata": {},
     "output_type": "execute_result"
    }
   ],
   "source": [
    "regr.score(X_test, y_test)"
   ]
  },
  {
   "cell_type": "code",
   "execution_count": 136,
   "id": "8c6a6b4e",
   "metadata": {},
   "outputs": [
    {
     "data": {
      "text/plain": [
       "0.08226202130118698"
      ]
     },
     "execution_count": 136,
     "metadata": {},
     "output_type": "execute_result"
    }
   ],
   "source": [
    "regr.score(X_test, y_test)"
   ]
  },
  {
   "cell_type": "code",
   "execution_count": 159,
   "id": "77272081",
   "metadata": {},
   "outputs": [
    {
     "data": {
      "text/plain": [
       "0.07459126549830042"
      ]
     },
     "execution_count": 159,
     "metadata": {},
     "output_type": "execute_result"
    }
   ],
   "source": [
    "regr.score(X_test, y_test)"
   ]
  },
  {
   "cell_type": "code",
   "execution_count": 167,
   "id": "353fe599",
   "metadata": {},
   "outputs": [
    {
     "data": {
      "text/plain": [
       "0.07698026297029104"
      ]
     },
     "execution_count": 167,
     "metadata": {},
     "output_type": "execute_result"
    }
   ],
   "source": [
    "regr.score(X_test, y_test)"
   ]
  },
  {
   "cell_type": "code",
   "execution_count": 182,
   "id": "e07b11a6",
   "metadata": {},
   "outputs": [
    {
     "data": {
      "text/plain": [
       "0.07698026297029104"
      ]
     },
     "execution_count": 182,
     "metadata": {},
     "output_type": "execute_result"
    }
   ],
   "source": [
    "regr.score(X_test, y_test)"
   ]
  },
  {
   "cell_type": "code",
   "execution_count": 206,
   "id": "d3bac9a3",
   "metadata": {},
   "outputs": [
    {
     "data": {
      "text/plain": [
       "1.0"
      ]
     },
     "execution_count": 206,
     "metadata": {},
     "output_type": "execute_result"
    }
   ],
   "source": [
    "regr.score(X_test, y_test)"
   ]
  },
  {
   "cell_type": "code",
   "execution_count": 214,
   "id": "f28c1bb0",
   "metadata": {},
   "outputs": [
    {
     "data": {
      "text/plain": [
       "1.0"
      ]
     },
     "execution_count": 214,
     "metadata": {},
     "output_type": "execute_result"
    }
   ],
   "source": [
    "regr.score(X_test, y_test)"
   ]
  },
  {
   "cell_type": "code",
   "execution_count": 222,
   "id": "5b00f8d0",
   "metadata": {},
   "outputs": [
    {
     "data": {
      "text/plain": [
       "1.0"
      ]
     },
     "execution_count": 222,
     "metadata": {},
     "output_type": "execute_result"
    }
   ],
   "source": [
    "regr.score(X_test, y_test)"
   ]
  },
  {
   "cell_type": "code",
   "execution_count": 231,
   "id": "50e59db1",
   "metadata": {},
   "outputs": [
    {
     "data": {
      "text/plain": [
       "1.0"
      ]
     },
     "execution_count": 231,
     "metadata": {},
     "output_type": "execute_result"
    }
   ],
   "source": [
    "regr.score(X_test, y_test)"
   ]
  },
  {
   "cell_type": "code",
   "execution_count": null,
   "id": "8c21965d",
   "metadata": {},
   "outputs": [],
   "source": []
  }
 ],
 "metadata": {
  "kernelspec": {
   "display_name": "Python 3 (ipykernel)",
   "language": "python",
   "name": "python3"
  },
  "language_info": {
   "codemirror_mode": {
    "name": "ipython",
    "version": 3
   },
   "file_extension": ".py",
   "mimetype": "text/x-python",
   "name": "python",
   "nbconvert_exporter": "python",
   "pygments_lexer": "ipython3",
   "version": "3.11.3"
  }
 },
 "nbformat": 4,
 "nbformat_minor": 5
}
